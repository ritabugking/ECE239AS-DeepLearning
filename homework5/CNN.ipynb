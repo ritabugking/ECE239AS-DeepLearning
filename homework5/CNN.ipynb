{
 "cells": [
  {
   "cell_type": "markdown",
   "metadata": {},
   "source": [
    "# Convolutional neural networks\n",
    "\n",
    "In this notebook, we'll put together our convolutional layers to implement a 3-layer CNN.  Then, we'll ask you to implement a CNN that can achieve > 65% validation error on CIFAR-10.\n",
    "\n",
    "CS231n has built a solid API for building these modular frameworks and training them, and we will use their very well implemented framework as opposed to \"reinventing the wheel.\"  This includes using their Solver, various utility functions, their layer structure, and their implementation of fast CNN layers.  This also includes nndl.fc_net, nndl.layers, and nndl.layer_utils.  As in prior assignments, we thank Serena Yeung & Justin Johnson for permission to use code written for the CS 231n class (cs231n.stanford.edu).  \n",
    "\n",
    "If you have not completed the Spatial BatchNorm Notebook, please see the following description from that notebook:\n",
    "\n",
    "Please copy and paste your prior implemented code from HW #4 to start this assignment.  If you did not correctly implement the layers in HW #4, you may collaborate with a classmate to use their layer implementations from HW #4.  You may also visit TA or Prof OH to correct your implementation.  \n",
    "\n",
    "You'll want to copy and paste from HW #4:\n",
    "    - layers.py for your FC network layers, as well as batchnorm and dropout.\n",
    "    - layer_utils.py for your combined FC network layers.\n",
    "    - optim.py for your optimizers.\n",
    "\n",
    "Be sure to place these in the `nndl/` directory so they're imported correctly.  Note, as announced in class, we will not be releasing our solutions."
   ]
  },
  {
   "cell_type": "code",
   "execution_count": 11,
   "metadata": {},
   "outputs": [
    {
     "name": "stdout",
     "output_type": "stream",
     "text": [
      "The autoreload extension is already loaded. To reload it, use:\n",
      "  %reload_ext autoreload\n"
     ]
    }
   ],
   "source": [
    "# As usual, a bit of setup\n",
    "\n",
    "import numpy as np\n",
    "import matplotlib.pyplot as plt\n",
    "from nndl.cnn import *\n",
    "from cs231n.data_utils import get_CIFAR10_data\n",
    "from cs231n.gradient_check import eval_numerical_gradient_array, eval_numerical_gradient\n",
    "from nndl.layers import *\n",
    "from nndl.conv_layers import *\n",
    "from cs231n.fast_layers import *\n",
    "from cs231n.solver import Solver\n",
    "\n",
    "%matplotlib inline\n",
    "plt.rcParams['figure.figsize'] = (10.0, 8.0) # set default size of plots\n",
    "plt.rcParams['image.interpolation'] = 'nearest'\n",
    "plt.rcParams['image.cmap'] = 'gray'\n",
    "\n",
    "# for auto-reloading external modules\n",
    "# see http://stackoverflow.com/questions/1907993/autoreload-of-modules-in-ipython\n",
    "%load_ext autoreload\n",
    "%autoreload 2\n",
    "\n",
    "def rel_error(x, y):\n",
    "  \"\"\" returns relative error \"\"\"\n",
    "  return np.max(np.abs(x - y) / (np.maximum(1e-8, np.abs(x) + np.abs(y))))"
   ]
  },
  {
   "cell_type": "code",
   "execution_count": 12,
   "metadata": {},
   "outputs": [
    {
     "name": "stdout",
     "output_type": "stream",
     "text": [
      "X_val: (1000, 3, 32, 32) \n",
      "X_train: (49000, 3, 32, 32) \n",
      "X_test: (1000, 3, 32, 32) \n",
      "y_val: (1000,) \n",
      "y_train: (49000,) \n",
      "y_test: (1000,) \n"
     ]
    }
   ],
   "source": [
    "# Load the (preprocessed) CIFAR10 data.\n",
    "\n",
    "data = get_CIFAR10_data()\n",
    "for k in data.keys():\n",
    "  print('{}: {} '.format(k, data[k].shape))"
   ]
  },
  {
   "cell_type": "markdown",
   "metadata": {},
   "source": [
    "## Three layer CNN\n",
    "\n",
    "In this notebook, you will implement a three layer CNN.  The `ThreeLayerConvNet` class is in `nndl/cnn.py`.  You'll need to modify that code for this section, including the initialization, as well as the calculation of the loss and gradients.  You should be able to use the building blocks you have either earlier coded or that we have provided.  Be sure to use the fast layers.\n",
    "\n",
    "The architecture of this CNN will be:\n",
    "\n",
    "conv - relu - 2x2 max pool - affine - relu - affine - softmax\n",
    "\n",
    "We won't use batchnorm yet.  You've also done enough of these to know how to debug; use the cells below.\n",
    "\n",
    "Note: As we are implementing several layers CNN networks. The gradient error can be expected for the `eval_numerical_gradient()` function. If your `W1 max relative error` and `W2 max relative error` are around or below 0.01, they should be acceptable. Other errors should be less than 1e-5. "
   ]
  },
  {
   "cell_type": "code",
   "execution_count": 19,
   "metadata": {},
   "outputs": [
    {
     "name": "stdout",
     "output_type": "stream",
     "text": [
      "W1 max relative error: 0.00048500405658\n",
      "W2 max relative error: 0.0121570642185\n",
      "W3 max relative error: 4.34491777159e-05\n",
      "b1 max relative error: 7.99716890938e-05\n",
      "b2 max relative error: 2.5868500689e-07\n",
      "b3 max relative error: 1.14809756429e-09\n"
     ]
    }
   ],
   "source": [
    "num_inputs = 2\n",
    "input_dim = (3, 16, 16)\n",
    "reg = 0.0\n",
    "num_classes = 10\n",
    "X = np.random.randn(num_inputs, *input_dim)\n",
    "y = np.random.randint(num_classes, size=num_inputs)\n",
    "\n",
    "model = ThreeLayerConvNet(num_filters=3, filter_size=3,\n",
    "                          input_dim=input_dim, hidden_dim=7,\n",
    "                          dtype=np.float64)\n",
    "loss, grads = model.loss(X, y)\n",
    "for param_name in sorted(grads):\n",
    "    f = lambda _: model.loss(X, y)[0]\n",
    "    param_grad_num = eval_numerical_gradient(f, model.params[param_name], verbose=False, h=1e-6)\n",
    "    e = rel_error(param_grad_num, grads[param_name])\n",
    "    print('{} max relative error: {}'.format(param_name, rel_error(param_grad_num, grads[param_name])))"
   ]
  },
  {
   "cell_type": "markdown",
   "metadata": {},
   "source": [
    "### Overfit small dataset\n",
    "\n",
    "To check your CNN implementation, let's overfit a small dataset."
   ]
  },
  {
   "cell_type": "code",
   "execution_count": 20,
   "metadata": {},
   "outputs": [
    {
     "name": "stdout",
     "output_type": "stream",
     "text": [
      "(Iteration 1 / 20) loss: 2.404106\n",
      "(Epoch 0 / 10) train acc: 0.230000; val_acc: 0.132000\n",
      "(Iteration 2 / 20) loss: 2.818953\n",
      "(Epoch 1 / 10) train acc: 0.220000; val_acc: 0.142000\n",
      "(Iteration 3 / 20) loss: 2.435576\n",
      "(Iteration 4 / 20) loss: 2.501954\n",
      "(Epoch 2 / 10) train acc: 0.240000; val_acc: 0.136000\n",
      "(Iteration 5 / 20) loss: 2.364800\n",
      "(Iteration 6 / 20) loss: 1.936613\n",
      "(Epoch 3 / 10) train acc: 0.230000; val_acc: 0.086000\n",
      "(Iteration 7 / 20) loss: 1.866935\n",
      "(Iteration 8 / 20) loss: 1.644003\n",
      "(Epoch 4 / 10) train acc: 0.530000; val_acc: 0.188000\n",
      "(Iteration 9 / 20) loss: 1.515180\n",
      "(Iteration 10 / 20) loss: 1.819292\n",
      "(Epoch 5 / 10) train acc: 0.580000; val_acc: 0.185000\n",
      "(Iteration 11 / 20) loss: 1.203726\n",
      "(Iteration 12 / 20) loss: 1.045983\n",
      "(Epoch 6 / 10) train acc: 0.600000; val_acc: 0.188000\n",
      "(Iteration 13 / 20) loss: 1.076013\n",
      "(Iteration 14 / 20) loss: 0.929915\n",
      "(Epoch 7 / 10) train acc: 0.760000; val_acc: 0.222000\n",
      "(Iteration 15 / 20) loss: 0.869404\n",
      "(Iteration 16 / 20) loss: 0.616786\n",
      "(Epoch 8 / 10) train acc: 0.750000; val_acc: 0.242000\n",
      "(Iteration 17 / 20) loss: 0.689910\n",
      "(Iteration 18 / 20) loss: 0.579885\n",
      "(Epoch 9 / 10) train acc: 0.820000; val_acc: 0.230000\n",
      "(Iteration 19 / 20) loss: 0.541249\n",
      "(Iteration 20 / 20) loss: 0.358143\n",
      "(Epoch 10 / 10) train acc: 0.840000; val_acc: 0.199000\n"
     ]
    }
   ],
   "source": [
    "num_train = 100\n",
    "small_data = {\n",
    "  'X_train': data['X_train'][:num_train],\n",
    "  'y_train': data['y_train'][:num_train],\n",
    "  'X_val': data['X_val'],\n",
    "  'y_val': data['y_val'],\n",
    "}\n",
    "\n",
    "model = ThreeLayerConvNet(weight_scale=1e-2)\n",
    "\n",
    "solver = Solver(model, small_data,\n",
    "                num_epochs=10, batch_size=50,\n",
    "                update_rule='adam',\n",
    "                optim_config={\n",
    "                  'learning_rate': 1e-3,\n",
    "                },\n",
    "                verbose=True, print_every=1)\n",
    "solver.train()"
   ]
  },
  {
   "cell_type": "code",
   "execution_count": 21,
   "metadata": {},
   "outputs": [
    {
     "data": {
      "image/png": "[encoded data removed]",
      "text/plain": [
       "<matplotlib.figure.Figure at 0x10d220550>"
      ]
     },
     "metadata": {},
     "output_type": "display_data"
    }
   ],
   "source": [
    "plt.subplot(2, 1, 1)\n",
    "plt.plot(solver.loss_history, 'o')\n",
    "plt.xlabel('iteration')\n",
    "plt.ylabel('loss')\n",
    "\n",
    "plt.subplot(2, 1, 2)\n",
    "plt.plot(solver.train_acc_history, '-o')\n",
    "plt.plot(solver.val_acc_history, '-o')\n",
    "plt.legend(['train', 'val'], loc='upper left')\n",
    "plt.xlabel('epoch')\n",
    "plt.ylabel('accuracy')\n",
    "plt.show()"
   ]
  },
  {
   "cell_type": "markdown",
   "metadata": {},
   "source": [
    "## Train the network\n",
    "\n",
    "Now we train the 3 layer CNN on CIFAR-10 and assess its accuracy."
   ]
  },
  {
   "cell_type": "code",
   "execution_count": 22,
   "metadata": {
    "scrolled": false
   },
   "outputs": [
    {
     "name": "stdout",
     "output_type": "stream",
     "text": [
      "(Iteration 1 / 980) loss: 2.304829\n",
      "(Epoch 0 / 1) train acc: 0.110000; val_acc: 0.118000\n",
      "(Iteration 21 / 980) loss: 2.006605\n",
      "(Iteration 41 / 980) loss: 2.006921\n",
      "(Iteration 61 / 980) loss: 2.084292\n",
      "(Iteration 81 / 980) loss: 1.891646\n",
      "(Iteration 101 / 980) loss: 1.870840\n",
      "(Iteration 121 / 980) loss: 1.800872\n",
      "(Iteration 141 / 980) loss: 1.968251\n",
      "(Iteration 161 / 980) loss: 1.756411\n",
      "(Iteration 181 / 980) loss: 1.633845\n",
      "(Iteration 201 / 980) loss: 1.800655\n",
      "(Iteration 221 / 980) loss: 1.777673\n",
      "(Iteration 241 / 980) loss: 1.688106\n",
      "(Iteration 261 / 980) loss: 1.372005\n",
      "(Iteration 281 / 980) loss: 1.946737\n",
      "(Iteration 301 / 980) loss: 1.726557\n",
      "(Iteration 321 / 980) loss: 1.475561\n",
      "(Iteration 341 / 980) loss: 1.834388\n",
      "(Iteration 361 / 980) loss: 1.466202\n",
      "(Iteration 381 / 980) loss: 1.680460\n",
      "(Iteration 401 / 980) loss: 1.496826\n",
      "(Iteration 421 / 980) loss: 1.852106\n",
      "(Iteration 441 / 980) loss: 1.837103\n",
      "(Iteration 461 / 980) loss: 1.966308\n",
      "(Iteration 481 / 980) loss: 1.526592\n",
      "(Iteration 501 / 980) loss: 1.470095\n",
      "(Iteration 521 / 980) loss: 1.710456\n",
      "(Iteration 541 / 980) loss: 1.910397\n",
      "(Iteration 561 / 980) loss: 1.449640\n",
      "(Iteration 581 / 980) loss: 1.811990\n",
      "(Iteration 601 / 980) loss: 1.514811\n",
      "(Iteration 621 / 980) loss: 1.606383\n",
      "(Iteration 641 / 980) loss: 1.444682\n",
      "(Iteration 661 / 980) loss: 1.636750\n",
      "(Iteration 681 / 980) loss: 1.532761\n",
      "(Iteration 701 / 980) loss: 1.874972\n",
      "(Iteration 721 / 980) loss: 1.840662\n",
      "(Iteration 741 / 980) loss: 1.537102\n",
      "(Iteration 761 / 980) loss: 1.722641\n",
      "(Iteration 781 / 980) loss: 1.087972\n",
      "(Iteration 801 / 980) loss: 1.379641\n",
      "(Iteration 821 / 980) loss: 1.450924\n",
      "(Iteration 841 / 980) loss: 1.437804\n",
      "(Iteration 861 / 980) loss: 1.587830\n",
      "(Iteration 881 / 980) loss: 1.610635\n",
      "(Iteration 901 / 980) loss: 1.561900\n",
      "(Iteration 921 / 980) loss: 1.410366\n",
      "(Iteration 941 / 980) loss: 1.693163\n",
      "(Iteration 961 / 980) loss: 1.661325\n",
      "(Epoch 1 / 1) train acc: 0.461000; val_acc: 0.467000\n"
     ]
    }
   ],
   "source": [
    "model = ThreeLayerConvNet(weight_scale=0.001, hidden_dim=500, reg=0.001)\n",
    "\n",
    "solver = Solver(model, data,\n",
    "                num_epochs=1, batch_size=50,\n",
    "                update_rule='adam',\n",
    "                optim_config={\n",
    "                  'learning_rate': 1e-3,\n",
    "                },\n",
    "                verbose=True, print_every=20)\n",
    "solver.train()"
   ]
  },
  {
   "cell_type": "markdown",
   "metadata": {},
   "source": [
    "# Get > 65% validation accuracy on CIFAR-10.\n",
    "\n",
    "In the last part of the assignment, we'll now ask you to train a CNN to get better than 65% validation accuracy on CIFAR-10.\n",
    "\n",
    "### Things you should try:\n",
    "- Filter size: Above we used 7x7; but VGGNet and onwards showed stacks of 3x3 filters are good.  \n",
    "- Number of filters: Above we used 32 filters. Do more or fewer do better?\n",
    "- Batch normalization: Try adding spatial batch normalization after convolution layers and vanilla batch normalization aafter affine layers. Do your networks train faster?\n",
    "- Network architecture: Can a deeper CNN do better?  Consider these architectures:\n",
    "    - [conv-relu-pool]xN - conv - relu - [affine]xM - [softmax or SVM]\n",
    "    - [conv-relu-pool]XN - [affine]XM - [softmax or SVM]\n",
    "    - [conv-relu-conv-relu-pool]xN - [affine]xM - [softmax or SVM]\n",
    "\n",
    "### Tips for training\n",
    "For each network architecture that you try, you should tune the learning rate and regularization strength. When doing this there are a couple important things to keep in mind:\n",
    "\n",
    "- If the parameters are working well, you should see improvement within a few hundred iterations\n",
    "- Remember the coarse-to-fine approach for hyperparameter tuning: start by testing a large range of hyperparameters for just a few training iterations to find the combinations of parameters that are working at all.\n",
    "- Once you have found some sets of parameters that seem to work, search more finely around these parameters. You may need to train for more epochs."
   ]
  },
  {
   "cell_type": "code",
   "execution_count": 33,
   "metadata": {
    "scrolled": false
   },
   "outputs": [
    {
     "name": "stdout",
     "output_type": "stream",
     "text": [
      "(Iteration 1 / 490) loss: 2.306706\n",
      "(Epoch 0 / 5) train acc: 0.093000; val_acc: 0.112000\n",
      "(Iteration 11 / 490) loss: 2.087431\n",
      "(Iteration 21 / 490) loss: 1.929070\n",
      "(Iteration 31 / 490) loss: 1.751228\n",
      "(Iteration 41 / 490) loss: 1.719299\n",
      "(Iteration 51 / 490) loss: 1.587831\n",
      "(Iteration 61 / 490) loss: 1.502691\n",
      "(Iteration 71 / 490) loss: 1.549977\n",
      "(Iteration 81 / 490) loss: 1.402410\n",
      "(Iteration 91 / 490) loss: 1.510931\n",
      "(Epoch 1 / 5) train acc: 0.511000; val_acc: 0.512000\n",
      "(Iteration 101 / 490) loss: 1.440094\n",
      "(Iteration 111 / 490) loss: 1.445302\n",
      "(Iteration 121 / 490) loss: 1.402213\n",
      "(Iteration 131 / 490) loss: 1.372276\n",
      "(Iteration 141 / 490) loss: 1.343683\n",
      "(Iteration 151 / 490) loss: 1.268084\n",
      "(Iteration 161 / 490) loss: 1.358481\n",
      "(Iteration 171 / 490) loss: 1.306516\n",
      "(Iteration 181 / 490) loss: 1.231888\n",
      "(Iteration 191 / 490) loss: 1.309796\n",
      "(Epoch 2 / 5) train acc: 0.596000; val_acc: 0.582000\n",
      "(Iteration 201 / 490) loss: 1.185613\n",
      "(Iteration 211 / 490) loss: 1.254201\n",
      "(Iteration 221 / 490) loss: 1.253186\n",
      "(Iteration 231 / 490) loss: 1.259793\n",
      "(Iteration 241 / 490) loss: 1.220255\n",
      "(Iteration 251 / 490) loss: 1.127548\n",
      "(Iteration 261 / 490) loss: 1.188627\n",
      "(Iteration 271 / 490) loss: 1.142228\n",
      "(Iteration 281 / 490) loss: 1.292445\n",
      "(Iteration 291 / 490) loss: 1.178847\n",
      "(Epoch 3 / 5) train acc: 0.591000; val_acc: 0.594000\n",
      "(Iteration 301 / 490) loss: 1.191051\n",
      "(Iteration 311 / 490) loss: 1.059465\n",
      "(Iteration 321 / 490) loss: 0.995821\n",
      "(Iteration 331 / 490) loss: 1.034540\n",
      "(Iteration 341 / 490) loss: 0.979557\n",
      "(Iteration 351 / 490) loss: 1.033804\n",
      "(Iteration 361 / 490) loss: 1.093286\n",
      "(Iteration 371 / 490) loss: 0.934026\n",
      "(Iteration 381 / 490) loss: 0.986693\n",
      "(Iteration 391 / 490) loss: 1.040440\n",
      "(Epoch 4 / 5) train acc: 0.682000; val_acc: 0.616000\n",
      "(Iteration 401 / 490) loss: 1.050200\n",
      "(Iteration 411 / 490) loss: 0.997861\n",
      "(Iteration 421 / 490) loss: 0.988884\n",
      "(Iteration 431 / 490) loss: 0.912053\n",
      "(Iteration 441 / 490) loss: 1.006697\n",
      "(Iteration 451 / 490) loss: 0.964885\n",
      "(Iteration 461 / 490) loss: 0.988789\n",
      "(Iteration 471 / 490) loss: 0.996586\n",
      "(Iteration 481 / 490) loss: 0.931486\n",
      "(Epoch 5 / 5) train acc: 0.696000; val_acc: 0.638000\n"
     ]
    }
   ],
   "source": [
    "# ================================================================ #\n",
    "# YOUR CODE HERE:\n",
    "#   Implement a CNN to achieve greater than 65% validation accuracy\n",
    "#   on CIFAR-10.\n",
    "# ================================================================ #\n",
    "model = ThreeLayerConvNet(weight_scale=0.001, hidden_dim=500, reg=0.001, filter_size = 7, num_filters = 64)\n",
    "\n",
    "solver = Solver(model, data,\n",
    "                num_epochs=5, batch_size=500,\n",
    "                update_rule='adam',\n",
    "                optim_config={\n",
    "                  'learning_rate': 1e-3,\n",
    "                },\n",
    "                verbose=True, print_every=10)\n",
    "solver.train()\n",
    "\n",
    "# ================================================================ #\n",
    "# END YOUR CODE HERE\n",
    "# ================================================================ #\n"
   ]
  },
  {
   "cell_type": "code",
   "execution_count": 34,
   "metadata": {},
   "outputs": [
    {
     "name": "stdout",
     "output_type": "stream",
     "text": [
      "(Iteration 1 / 686) loss: 2.306666\n",
      "(Epoch 0 / 7) train acc: 0.123000; val_acc: 0.130000\n",
      "(Iteration 11 / 686) loss: 1.948879\n",
      "(Iteration 21 / 686) loss: 1.809694\n",
      "(Iteration 31 / 686) loss: 1.653385\n",
      "(Iteration 41 / 686) loss: 1.501529\n",
      "(Iteration 51 / 686) loss: 1.461271\n",
      "(Iteration 61 / 686) loss: 1.359689\n",
      "(Iteration 71 / 686) loss: 1.391672\n",
      "(Iteration 81 / 686) loss: 1.474507\n",
      "(Iteration 91 / 686) loss: 1.489841\n",
      "(Epoch 1 / 7) train acc: 0.512000; val_acc: 0.539000\n",
      "(Iteration 101 / 686) loss: 1.423623\n",
      "(Iteration 111 / 686) loss: 1.258785\n",
      "(Iteration 121 / 686) loss: 1.326817\n",
      "(Iteration 131 / 686) loss: 1.263780\n",
      "(Iteration 141 / 686) loss: 1.300442\n",
      "(Iteration 151 / 686) loss: 1.311888\n",
      "(Iteration 161 / 686) loss: 1.197304\n",
      "(Iteration 171 / 686) loss: 1.210910\n",
      "(Iteration 181 / 686) loss: 1.188379\n",
      "(Iteration 191 / 686) loss: 1.084884\n",
      "(Epoch 2 / 7) train acc: 0.606000; val_acc: 0.609000\n",
      "(Iteration 201 / 686) loss: 1.143054\n",
      "(Iteration 211 / 686) loss: 1.212496\n",
      "(Iteration 221 / 686) loss: 1.189139\n",
      "(Iteration 231 / 686) loss: 1.031809\n",
      "(Iteration 241 / 686) loss: 1.091389\n",
      "(Iteration 251 / 686) loss: 1.053163\n",
      "(Iteration 261 / 686) loss: 1.130875\n",
      "(Iteration 271 / 686) loss: 1.083643\n",
      "(Iteration 281 / 686) loss: 1.082385\n",
      "(Iteration 291 / 686) loss: 1.063271\n",
      "(Epoch 3 / 7) train acc: 0.667000; val_acc: 0.610000\n",
      "(Iteration 301 / 686) loss: 1.096024\n",
      "(Iteration 311 / 686) loss: 1.017514\n",
      "(Iteration 321 / 686) loss: 0.983623\n",
      "(Iteration 331 / 686) loss: 0.862629\n",
      "(Iteration 341 / 686) loss: 1.040473\n",
      "(Iteration 351 / 686) loss: 1.014821\n",
      "(Iteration 361 / 686) loss: 0.950051\n",
      "(Iteration 371 / 686) loss: 0.857804\n",
      "(Iteration 381 / 686) loss: 0.932675\n",
      "(Iteration 391 / 686) loss: 0.904028\n",
      "(Epoch 4 / 7) train acc: 0.671000; val_acc: 0.622000\n",
      "(Iteration 401 / 686) loss: 0.916411\n",
      "(Iteration 411 / 686) loss: 1.070502\n",
      "(Iteration 421 / 686) loss: 0.919669\n",
      "(Iteration 431 / 686) loss: 0.891754\n",
      "(Iteration 441 / 686) loss: 0.859301\n",
      "(Iteration 451 / 686) loss: 0.809891\n",
      "(Iteration 461 / 686) loss: 0.794971\n",
      "(Iteration 471 / 686) loss: 0.884732\n",
      "(Iteration 481 / 686) loss: 0.863436\n",
      "(Epoch 5 / 7) train acc: 0.735000; val_acc: 0.636000\n",
      "(Iteration 491 / 686) loss: 0.867697\n",
      "(Iteration 501 / 686) loss: 0.811700\n",
      "(Iteration 511 / 686) loss: 0.785466\n",
      "(Iteration 521 / 686) loss: 0.864686\n",
      "(Iteration 531 / 686) loss: 0.709413\n",
      "(Iteration 541 / 686) loss: 0.813629\n",
      "(Iteration 551 / 686) loss: 0.778565\n",
      "(Iteration 561 / 686) loss: 0.746269\n",
      "(Iteration 571 / 686) loss: 0.772990\n",
      "(Iteration 581 / 686) loss: 0.644451\n",
      "(Epoch 6 / 7) train acc: 0.767000; val_acc: 0.657000\n",
      "(Iteration 591 / 686) loss: 0.825515\n",
      "(Iteration 601 / 686) loss: 0.680056\n",
      "(Iteration 611 / 686) loss: 0.702553\n",
      "(Iteration 621 / 686) loss: 0.750595\n",
      "(Iteration 631 / 686) loss: 0.738825\n",
      "(Iteration 641 / 686) loss: 0.751157\n",
      "(Iteration 651 / 686) loss: 0.703667\n",
      "(Iteration 661 / 686) loss: 0.809817\n",
      "(Iteration 671 / 686) loss: 0.734236\n",
      "(Iteration 681 / 686) loss: 0.670993\n",
      "(Epoch 7 / 7) train acc: 0.803000; val_acc: 0.663000\n"
     ]
    }
   ],
   "source": [
    "model = ThreeLayerConvNet(weight_scale=0.001, hidden_dim=500, reg=0.001, filter_size = 7, num_filters = 64)\n",
    "\n",
    "solver = Solver(model, data,\n",
    "                num_epochs=7, batch_size=500,\n",
    "                update_rule='adam',\n",
    "                optim_config={\n",
    "                  'learning_rate': 5e-4,\n",
    "                },\n",
    "                verbose=True, print_every=10)\n",
    "solver.train()"
   ]
  },
  {
   "cell_type": "markdown",
   "metadata": {},
   "source": [
    "#### Therefore, validation accuracy of > 65% achieved. "
   ]
  },
  {
   "cell_type": "code",
   "execution_count": null,
   "metadata": {
    "collapsed": true
   },
   "outputs": [],
   "source": []
  }
 ],
 "metadata": {
  "kernelspec": {
   "display_name": "Python 3",
   "language": "python",
   "name": "python3"
  },
  "language_info": {
   "codemirror_mode": {
    "name": "ipython",
    "version": 3
   },
   "file_extension": ".py",
   "mimetype": "text/x-python",
   "name": "python",
   "nbconvert_exporter": "python",
   "pygments_lexer": "ipython3",
   "version": "3.6.4"
  }
 },
 "nbformat": 4,
 "nbformat_minor": 2
}
